{
  "nbformat": 4,
  "nbformat_minor": 0,
  "metadata": {
    "colab": {
      "provenance": []
    },
    "kernelspec": {
      "name": "python3",
      "display_name": "Python 3"
    },
    "language_info": {
      "name": "python"
    }
  },
  "cells": [
    {
      "cell_type": "code",
      "source": [
        "Q2).function parameters and arguement.\n",
        "parameters: are variables defined in a function declaration. this act as placeholders\n",
        "for the values that will be passed to the functions.\n",
        "\n",
        "arguments: arguments are the actual values that you pass to the functions when you call\n",
        "it. these values replace the parameters defined in the functions.\n",
        "\n"
      ],
      "metadata": {
        "id": "436AEXeSCb49"
      },
      "execution_count": null,
      "outputs": []
    },
    {
      "cell_type": "code",
      "execution_count": null,
      "metadata": {
        "id": "hN0IuxLV98HO"
      },
      "outputs": [],
      "source": [
        "Q1)functions:-\n",
        "1) funtions are created outside a class\n",
        "2) functions are not linked to anything\n",
        "3) fuctions can not access or modify class atributes\n",
        "4) functions are independent of classess\n",
        "Methods:-\n",
        "1) methods are created inside a class\n",
        "2) methods are linked with the classes they are created in\n",
        "3) methods can access and modify class atributes.\n"
      ]
    },
    {
      "cell_type": "code",
      "source": [
        "Q3).in python, you can define a function using the def keyword,and call it from anywhere\n",
        "in the program.\n",
        "Defining a function:-\n",
        "1. use the def keyword\n",
        "2. write the function name\n",
        "3. add parentheses and a colon\n",
        "4. indent with a tab or four spaces\n",
        "5. specify what the function should do\n"
      ],
      "metadata": {
        "id": "b1crGNyTEh1C"
      },
      "execution_count": null,
      "outputs": []
    },
    {
      "cell_type": "code",
      "source": [
        "Q4).the return statement in python ends a functions execution and returns a value to the celler.\n",
        ": terminates the functions execution\n",
        ": returns a value or values to the celler\n",
        ": allows the functions output to be used by the parts of the program.\n"
      ],
      "metadata": {
        "id": "k1ub2reJHrh3"
      },
      "execution_count": null,
      "outputs": []
    },
    {
      "cell_type": "code",
      "source": [
        "Q5).iterable:- is basically an object that any user can iterate over.\n",
        "we can generate an iterator when we pass the object to the iter()method.\n",
        "every iterator is basically iterable.\n",
        "iterator:- is also and object that helps a user in iterating over another object.\n",
        "we use the __name__() method for iterating. this method helps iterators return the next item\n",
        "available from the object.\n",
        "not every iterable ia an iterator.\n"
      ],
      "metadata": {
        "id": "qx9t7VI6ItB6"
      },
      "execution_count": null,
      "outputs": []
    },
    {
      "cell_type": "code",
      "source": [
        "Q6).a generator is a function that produces a sequence of values on demand,rather than computing and storing all the values at once.\n",
        ": a generator function is defined like a normal function,but with a yield statement instead of a return statement.\n",
        ": the yield statement pauses the function,returns the current value and retains the state of the function.\n",
        ": the function can continue from same point when called again."
      ],
      "metadata": {
        "id": "6Gtmt1LqKvUT"
      },
      "execution_count": null,
      "outputs": []
    },
    {
      "cell_type": "code",
      "source": [
        "Q7).memory efficiency:- generators only produce one value at a time,so they dont need to store the entire sequence in memory.this makes them ideal\n",
        "for working with large data sets.\n",
        "lazy evaluation:- generators only compute values when needed,which can improve performance and responsiveness.\n",
        "readability:- generators can make code easier to read and understand by breakinh up the iteration process into smaller chunks.\n",
        "speed:- generators can be faster than loops,especially when working with large data sets.\n",
        "flexibility:- generators can be used for a variety of tasks,including generating infinte sequences,processing large data sets and creating custom\n",
        "iterators.\n"
      ],
      "metadata": {
        "id": "jDIqtcAQzdTK"
      },
      "execution_count": null,
      "outputs": []
    },
    {
      "cell_type": "code",
      "source": [
        "Q8).a lambda function in python is s small , anonymous function that is defined using the lambda keyword.lambda functions are often used for short\n",
        "one time operations that can be written in a single line.\n",
        "it is typically used when;\n",
        "1.defining temporary functions.\n",
        "2.passing functions as arguments.\n",
        "3.data transformations.\n",
        "4.simple mathematical calculations."
      ],
      "metadata": {
        "id": "0IBvbVV11KBk"
      },
      "execution_count": null,
      "outputs": []
    },
    {
      "cell_type": "code",
      "source": [
        "Q9).the python map() function applies a function to every item in an iterable,such as a list or tuple, and returns a new iterables.\n",
        "its used to simplify iterative operations and perform complex operations.\n",
        "purpose simplifies iterative operations,performs complex opertions, and maps a function across each item in an iterable.\n",
        "usage:\n",
        "1.pass the function and iterable as arguments to the map() function.\n",
        "2.the map() function returns a new iterator containing the results.\n",
        "3.the map object can be converted to a sequence object,like a list or tuple.\n",
        "example: to square each numbers in a list\n",
        "numbers=[1,2,3,4]\n",
        "squares=map(lambda x: x**2,numbers)"
      ],
      "metadata": {
        "id": "GiyyeUSe2PHJ"
      },
      "execution_count": null,
      "outputs": []
    },
    {
      "cell_type": "code",
      "source": [
        "Q10) 1.map()\n",
        "purpose:applies a function to every item in an iterable and returns a new iterable .\n",
        "syntax:map(function,iterable)\n",
        "example:1.python\n",
        "2.numbers = [1,2,3,4]\n",
        "3.squared = list(map(lambda x: x**2 numbers))\n",
        "\n",
        "2.filter()\n",
        "purpose:filters items form an iterable based on a function that returns true or false ,returning a new iterable containing only the items for which\n",
        "the function returned true.\n",
        "syntax:filter(function,iterable)\n",
        "example:1.python\n",
        "2.numbers = [1,2,3,4]\n",
        "3.even_numbers = list(filter(lambda x: x % 2 == 0,numbers))\n",
        "\n",
        "3.reduce()\n",
        "purpose:applies a rolling computation to sequential pairs af values in an iterable , reducing it to a single value . it is not a built-in function\n",
        "in python 3, so it must be imported from the functools module.\n",
        "syntax:reduce(function,iterable[initializer])\n",
        "example:1.python - from functools import reduce\n",
        "2.numbers = [1,2,3,4]\n",
        "3.product = reduce(lambda x,y:x*y,numbers)\n",
        "print(product)#output:24"
      ],
      "metadata": {
        "id": "XfyaQU5_4Psx"
      },
      "execution_count": null,
      "outputs": []
    },
    {
      "cell_type": "markdown",
      "source": [
        " Practical Questions"
      ],
      "metadata": {
        "id": "vjTLnn4UTLEU"
      }
    },
    {
      "cell_type": "code",
      "source": [
        " N = int(input())\n",
        "N = int(input())\n",
        "List = []\n",
        "list = []\n",
        "while N > 0:\n",
        "    List.append(int(input()))\n",
        "    N -=1\n",
        "\n",
        "\n",
        "\n",
        "\n",
        "for num in List:\n",
        "    if num % 2 == 0:\n",
        "      list.append(num)\n",
        "    else:\n",
        "      pass\n",
        "print(sum(list))\n"
      ],
      "metadata": {
        "colab": {
          "base_uri": "https://localhost:8080/",
          "height": 106
        },
        "collapsed": true,
        "id": "ZJgLQZ2sTab-",
        "outputId": "3a3e41ab-3212-4ef9-c244-5c197cc90b0e"
      },
      "execution_count": null,
      "outputs": [
        {
          "output_type": "error",
          "ename": "SyntaxError",
          "evalue": "invalid syntax (<ipython-input-11-38bc651bc377>, line 4)",
          "traceback": [
            "\u001b[0;36m  File \u001b[0;32m\"<ipython-input-11-38bc651bc377>\"\u001b[0;36m, line \u001b[0;32m4\u001b[0m\n\u001b[0;31m    While N > 0:\u001b[0m\n\u001b[0m          ^\u001b[0m\n\u001b[0;31mSyntaxError\u001b[0m\u001b[0;31m:\u001b[0m invalid syntax\n"
          ]
        }
      ]
    },
    {
      "cell_type": "code",
      "source": [
        " s = \"GeeksforGeeks\"\n",
        " rev = ' '.join(reversed(s))\n",
        "print(rev)"
      ],
      "metadata": {
        "colab": {
          "base_uri": "https://localhost:8080/"
        },
        "id": "ZnwIk2T9XQPp",
        "outputId": "539fd673-7f5b-4c43-c61d-6ad0a8efdec7"
      },
      "execution_count": null,
      "outputs": [
        {
          "output_type": "stream",
          "name": "stdout",
          "text": [
            "s k e e G r o f s k e e G\n"
          ]
        }
      ]
    },
    {
      "cell_type": "code",
      "source": [
        "numbers = [2, 3, 5, 1]\n",
        "def square_list(numbers):\n",
        "    squared_list = [number**2 for number in numbers]\n",
        "    print(squared_list)  # output: [4, 9, 25, 1]\n",
        "square_list(numbers)"
      ],
      "metadata": {
        "colab": {
          "base_uri": "https://localhost:8080/",
          "height": 106
        },
        "collapsed": true,
        "id": "kGt6I1IwX-fD",
        "outputId": "e3f31f1b-5aa9-4a38-cb36-7d3f97096943"
      },
      "execution_count": null,
      "outputs": [
        {
          "output_type": "error",
          "ename": "SyntaxError",
          "evalue": "expected ':' (<ipython-input-15-a0e8ac4693e1>, line 2)",
          "traceback": [
            "\u001b[0;36m  File \u001b[0;32m\"<ipython-input-15-a0e8ac4693e1>\"\u001b[0;36m, line \u001b[0;32m2\u001b[0m\n\u001b[0;31m    def square_list(numbers)\u001b[0m\n\u001b[0m                            ^\u001b[0m\n\u001b[0;31mSyntaxError\u001b[0m\u001b[0;31m:\u001b[0m expected ':'\n"
          ]
        }
      ]
    },
    {
      "cell_type": "code",
      "source": [
        "\n",
        "\n",
        " def fibonacci(n):\n",
        "\n",
        "         l = [0,1]\n",
        "         for i in range(2,n):\n",
        "             l.append(l[-1]+l[-2])\n",
        "         return l\n",
        "\n",
        "\n",
        " if __name__ == \"__main__\":\n",
        "         n = 10\n",
        "         fibo = fibonacci(n)\n",
        "\n",
        "         print(\"Fibonacci Series:\",*fibo)\n",
        "\n",
        "\n",
        "\n",
        "\n"
      ],
      "metadata": {
        "colab": {
          "base_uri": "https://localhost:8080/"
        },
        "collapsed": true,
        "id": "Bu6pTGBMZBd2",
        "outputId": "d0cd9b0d-c6c5-4a23-b06a-6f801d63b3be"
      },
      "execution_count": null,
      "outputs": [
        {
          "output_type": "stream",
          "name": "stdout",
          "text": [
            "Fibonacci Series: 0 1 1 2 3 5 8 13 21 34\n"
          ]
        }
      ]
    },
    {
      "cell_type": "code",
      "source": [
        "  def fun(max):\n",
        "      cnt = 1\n",
        "      while cnt <= max:\n",
        "        yield cnt\n",
        "        cnt += 1\n",
        "\n",
        "        ctr = fun(5)\n",
        "        for n in ctr:\n",
        "          print(N)\n"
      ],
      "metadata": {
        "id": "7xr4WREzbXnG"
      },
      "execution_count": null,
      "outputs": []
    },
    {
      "cell_type": "code",
      "source": [
        " with open('filename.txt', 'r') as file:\n",
        "\n",
        "\n",
        "  for line in file:\n",
        "\n",
        "    print(line.strip())\n"
      ],
      "metadata": {
        "colab": {
          "base_uri": "https://localhost:8080/",
          "height": 211
        },
        "collapsed": true,
        "id": "qJTfNwODc6-3",
        "outputId": "37fb9001-5715-4ccd-c61e-036fcd4ff97b"
      },
      "execution_count": null,
      "outputs": [
        {
          "output_type": "error",
          "ename": "FileNotFoundError",
          "evalue": "[Errno 2] No such file or directory: 'filename.txt'",
          "traceback": [
            "\u001b[0;31m---------------------------------------------------------------------------\u001b[0m",
            "\u001b[0;31mFileNotFoundError\u001b[0m                         Traceback (most recent call last)",
            "\u001b[0;32m<ipython-input-24-7c0fc630d4c7>\u001b[0m in \u001b[0;36m<cell line: 0>\u001b[0;34m()\u001b[0m\n\u001b[0;32m----> 1\u001b[0;31m \u001b[0;32mwith\u001b[0m \u001b[0mopen\u001b[0m\u001b[0;34m(\u001b[0m\u001b[0;34m'filename.txt'\u001b[0m\u001b[0;34m,\u001b[0m \u001b[0;34m'r'\u001b[0m\u001b[0;34m)\u001b[0m \u001b[0;32mas\u001b[0m \u001b[0mfile\u001b[0m\u001b[0;34m:\u001b[0m\u001b[0;34m\u001b[0m\u001b[0;34m\u001b[0m\u001b[0m\n\u001b[0m\u001b[1;32m      2\u001b[0m \u001b[0;34m\u001b[0m\u001b[0m\n\u001b[1;32m      3\u001b[0m \u001b[0;34m\u001b[0m\u001b[0m\n\u001b[1;32m      4\u001b[0m  \u001b[0;32mfor\u001b[0m \u001b[0mline\u001b[0m \u001b[0;32min\u001b[0m \u001b[0mfile\u001b[0m\u001b[0;34m:\u001b[0m\u001b[0;34m\u001b[0m\u001b[0;34m\u001b[0m\u001b[0m\n\u001b[1;32m      5\u001b[0m \u001b[0;34m\u001b[0m\u001b[0m\n",
            "\u001b[0;31mFileNotFoundError\u001b[0m: [Errno 2] No such file or directory: 'filename.txt'"
          ]
        }
      ]
    },
    {
      "cell_type": "code",
      "source": [
        " a = [(1, 3,),(4,1),(2,2)]\n",
        "\n",
        " sorted_list = sorted(a, key=lambda x: x[1])\n",
        "\n",
        " print(sorted_list)"
      ],
      "metadata": {
        "colab": {
          "base_uri": "https://localhost:8080/"
        },
        "id": "qezl_ggpeacT",
        "outputId": "c9fade46-fb22-428d-92a6-4cce7c9bd7d0"
      },
      "execution_count": null,
      "outputs": [
        {
          "output_type": "stream",
          "name": "stdout",
          "text": [
            "[(4, 1), (2, 2), (1, 3)]\n"
          ]
        }
      ]
    },
    {
      "cell_type": "code",
      "source": [
        " celsius = 47\n",
        "\n",
        " fahrenheit = (celsius * 1.8) + 32\n",
        " print(fahrenheit)"
      ],
      "metadata": {
        "colab": {
          "base_uri": "https://localhost:8080/"
        },
        "id": "rM0lT_vwe4a2",
        "outputId": "33d28068-c1b3-43ae-f0b9-e218bbf1fab7"
      },
      "execution_count": null,
      "outputs": [
        {
          "output_type": "stream",
          "name": "stdout",
          "text": [
            "116.60000000000001\n"
          ]
        }
      ]
    },
    {
      "cell_type": "code",
      "source": [
        " def rem_vowel(string):\n",
        "    vowels = ['a','e','i','o','u']\n",
        "    result = [letter for letter in string if letter.lower() not in vowels]\n",
        "    result = ''.join(result)\n",
        "    print(result)"
      ],
      "metadata": {
        "id": "LJTaadxCfTBi"
      },
      "execution_count": null,
      "outputs": []
    },
    {
      "cell_type": "code",
      "source": [],
      "metadata": {
        "id": "9YUTV6XrfmmE"
      },
      "execution_count": null,
      "outputs": []
    }
  ]
}